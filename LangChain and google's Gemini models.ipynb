{
 "cells": [
  {
   "cell_type": "markdown",
   "id": "ecc24994-5b61-45d7-899c-d85586318bfa",
   "metadata": {},
   "source": [
    "# LangChain and Google's Gemini"
   ]
  },
  {
   "cell_type": "code",
   "execution_count": 1,
   "id": "5d234efd-b00f-4fc9-9875-b59b61df2db8",
   "metadata": {},
   "outputs": [
    {
     "name": "stdout",
     "output_type": "stream",
     "text": [
      "Note: you may need to restart the kernel to use updated packages.\n"
     ]
    }
   ],
   "source": [
    "pip install --upgrade -q langchain-google-genai"
   ]
  },
  {
   "cell_type": "code",
   "execution_count": 2,
   "id": "299c87c0-0c52-40d4-bca9-e10309391ce3",
   "metadata": {},
   "outputs": [
    {
     "name": "stdout",
     "output_type": "stream",
     "text": [
      "Il pacchetto è installato.\n"
     ]
    }
   ],
   "source": [
    "# In una cella Jupyter o in uno script Python\n",
    "try:\n",
    "    import langchain_google_genai\n",
    "    print(\"Il pacchetto è installato.\")\n",
    "except ImportError:\n",
    "    print(\"Il pacchetto non è installato.\")"
   ]
  },
  {
   "cell_type": "code",
   "execution_count": 3,
   "id": "eb5ba205-1367-40d5-ab31-0bc836c092ac",
   "metadata": {},
   "outputs": [
    {
     "name": "stdout",
     "output_type": "stream",
     "text": [
      "Name: langchain-google-genai\n",
      "Version: 2.1.2\n",
      "Summary: An integration package connecting Google's genai package and LangChain\n",
      "Home-page: https://github.com/langchain-ai/langchain-google\n",
      "Author: \n",
      "Author-email: \n",
      "License: MIT\n",
      "Location: /Users/pandagan/workspace/projects/ztm_llm_langchain/corso_langchain/lib/python3.13/site-packages\n",
      "Requires: filetype, google-ai-generativelanguage, langchain-core, pydantic\n",
      "Required-by: \n",
      "Note: you may need to restart the kernel to use updated packages.\n"
     ]
    }
   ],
   "source": [
    "pip show langchain-google-genai"
   ]
  },
  {
   "cell_type": "code",
   "execution_count": 6,
   "id": "772e6903-7c2a-4d6a-980d-7ff3e1c4e4c8",
   "metadata": {
    "scrolled": true
   },
   "outputs": [
    {
     "name": "stdout",
     "output_type": "stream",
     "text": [
      "Requirement already satisfied: google-generativeai in ./corso_langchain/lib/python3.13/site-packages (0.8.4)\n",
      "Requirement already satisfied: google-ai-generativelanguage==0.6.15 in ./corso_langchain/lib/python3.13/site-packages (from google-generativeai) (0.6.15)\n",
      "Requirement already satisfied: google-api-core in ./corso_langchain/lib/python3.13/site-packages (from google-generativeai) (2.24.2)\n",
      "Requirement already satisfied: google-api-python-client in ./corso_langchain/lib/python3.13/site-packages (from google-generativeai) (2.166.0)\n",
      "Requirement already satisfied: google-auth>=2.15.0 in ./corso_langchain/lib/python3.13/site-packages (from google-generativeai) (2.38.0)\n",
      "Requirement already satisfied: protobuf in ./corso_langchain/lib/python3.13/site-packages (from google-generativeai) (5.29.4)\n",
      "Requirement already satisfied: pydantic in ./corso_langchain/lib/python3.13/site-packages (from google-generativeai) (2.10.6)\n",
      "Requirement already satisfied: tqdm in ./corso_langchain/lib/python3.13/site-packages (from google-generativeai) (4.67.1)\n",
      "Requirement already satisfied: typing-extensions in ./corso_langchain/lib/python3.13/site-packages (from google-generativeai) (4.12.2)\n",
      "Requirement already satisfied: proto-plus<2.0.0dev,>=1.22.3 in ./corso_langchain/lib/python3.13/site-packages (from google-ai-generativelanguage==0.6.15->google-generativeai) (1.26.1)\n",
      "Requirement already satisfied: googleapis-common-protos<2.0.0,>=1.56.2 in ./corso_langchain/lib/python3.13/site-packages (from google-api-core->google-generativeai) (1.69.2)\n",
      "Requirement already satisfied: requests<3.0.0,>=2.18.0 in ./corso_langchain/lib/python3.13/site-packages (from google-api-core->google-generativeai) (2.32.3)\n",
      "Requirement already satisfied: cachetools<6.0,>=2.0.0 in ./corso_langchain/lib/python3.13/site-packages (from google-auth>=2.15.0->google-generativeai) (5.5.2)\n",
      "Requirement already satisfied: pyasn1-modules>=0.2.1 in ./corso_langchain/lib/python3.13/site-packages (from google-auth>=2.15.0->google-generativeai) (0.4.2)\n",
      "Requirement already satisfied: rsa<5,>=3.1.4 in ./corso_langchain/lib/python3.13/site-packages (from google-auth>=2.15.0->google-generativeai) (4.9)\n",
      "Requirement already satisfied: httplib2<1.0.0,>=0.19.0 in ./corso_langchain/lib/python3.13/site-packages (from google-api-python-client->google-generativeai) (0.22.0)\n",
      "Requirement already satisfied: google-auth-httplib2<1.0.0,>=0.2.0 in ./corso_langchain/lib/python3.13/site-packages (from google-api-python-client->google-generativeai) (0.2.0)\n",
      "Requirement already satisfied: uritemplate<5,>=3.0.1 in ./corso_langchain/lib/python3.13/site-packages (from google-api-python-client->google-generativeai) (4.1.1)\n",
      "Requirement already satisfied: annotated-types>=0.6.0 in ./corso_langchain/lib/python3.13/site-packages (from pydantic->google-generativeai) (0.7.0)\n",
      "Requirement already satisfied: pydantic-core==2.27.2 in ./corso_langchain/lib/python3.13/site-packages (from pydantic->google-generativeai) (2.27.2)\n",
      "Requirement already satisfied: grpcio<2.0dev,>=1.33.2 in ./corso_langchain/lib/python3.13/site-packages (from google-api-core[grpc]!=2.0.*,!=2.1.*,!=2.10.*,!=2.2.*,!=2.3.*,!=2.4.*,!=2.5.*,!=2.6.*,!=2.7.*,!=2.8.*,!=2.9.*,<3.0.0dev,>=1.34.1->google-ai-generativelanguage==0.6.15->google-generativeai) (1.71.0)\n",
      "Requirement already satisfied: grpcio-status<2.0.dev0,>=1.33.2 in ./corso_langchain/lib/python3.13/site-packages (from google-api-core[grpc]!=2.0.*,!=2.1.*,!=2.10.*,!=2.2.*,!=2.3.*,!=2.4.*,!=2.5.*,!=2.6.*,!=2.7.*,!=2.8.*,!=2.9.*,<3.0.0dev,>=1.34.1->google-ai-generativelanguage==0.6.15->google-generativeai) (1.71.0)\n",
      "Requirement already satisfied: pyparsing!=3.0.0,!=3.0.1,!=3.0.2,!=3.0.3,<4,>=2.4.2 in ./corso_langchain/lib/python3.13/site-packages (from httplib2<1.0.0,>=0.19.0->google-api-python-client->google-generativeai) (3.2.3)\n",
      "Requirement already satisfied: pyasn1<0.7.0,>=0.6.1 in ./corso_langchain/lib/python3.13/site-packages (from pyasn1-modules>=0.2.1->google-auth>=2.15.0->google-generativeai) (0.6.1)\n",
      "Requirement already satisfied: charset-normalizer<4,>=2 in ./corso_langchain/lib/python3.13/site-packages (from requests<3.0.0,>=2.18.0->google-api-core->google-generativeai) (3.4.1)\n",
      "Requirement already satisfied: idna<4,>=2.5 in ./corso_langchain/lib/python3.13/site-packages (from requests<3.0.0,>=2.18.0->google-api-core->google-generativeai) (3.10)\n",
      "Requirement already satisfied: urllib3<3,>=1.21.1 in ./corso_langchain/lib/python3.13/site-packages (from requests<3.0.0,>=2.18.0->google-api-core->google-generativeai) (2.3.0)\n",
      "Requirement already satisfied: certifi>=2017.4.17 in ./corso_langchain/lib/python3.13/site-packages (from requests<3.0.0,>=2.18.0->google-api-core->google-generativeai) (2025.1.31)\n",
      "Note: you may need to restart the kernel to use updated packages.\n"
     ]
    }
   ],
   "source": [
    "pip install --upgrade google-generativeai"
   ]
  },
  {
   "cell_type": "code",
   "execution_count": 7,
   "id": "b76a89d3-e049-4519-ab0f-d300e979b058",
   "metadata": {},
   "outputs": [
    {
     "data": {
      "text/plain": [
       "True"
      ]
     },
     "execution_count": 7,
     "metadata": {},
     "output_type": "execute_result"
    }
   ],
   "source": [
    "from dotenv import load_dotenv, find_dotenv\n",
    "load_dotenv(find_dotenv(), override=True)"
   ]
  },
  {
   "cell_type": "code",
   "execution_count": 9,
   "id": "48227d21-379f-46ef-b3c0-881bb82cc7c7",
   "metadata": {},
   "outputs": [],
   "source": [
    "import getpass\n",
    "import os\n",
    "\n",
    "if 'GOOGLE_API_KEY' not in os.environ:\n",
    "    os.environ['GOOGLE_API_KEY'] = getpass('Provide your Google API Key: ')"
   ]
  },
  {
   "cell_type": "code",
   "execution_count": 10,
   "id": "95eabece-2884-480c-84a0-bce37d7db651",
   "metadata": {
    "scrolled": true
   },
   "outputs": [
    {
     "name": "stdout",
     "output_type": "stream",
     "text": [
      "models/chat-bison-001\n",
      "models/text-bison-001\n",
      "models/embedding-gecko-001\n",
      "models/gemini-1.0-pro-vision-latest\n",
      "models/gemini-pro-vision\n",
      "models/gemini-1.5-pro-latest\n",
      "models/gemini-1.5-pro-001\n",
      "models/gemini-1.5-pro-002\n",
      "models/gemini-1.5-pro\n",
      "models/gemini-1.5-flash-latest\n",
      "models/gemini-1.5-flash-001\n",
      "models/gemini-1.5-flash-001-tuning\n",
      "models/gemini-1.5-flash\n",
      "models/gemini-1.5-flash-002\n",
      "models/gemini-1.5-flash-8b\n",
      "models/gemini-1.5-flash-8b-001\n",
      "models/gemini-1.5-flash-8b-latest\n",
      "models/gemini-1.5-flash-8b-exp-0827\n",
      "models/gemini-1.5-flash-8b-exp-0924\n",
      "models/gemini-2.5-pro-exp-03-25\n",
      "models/gemini-2.0-flash-exp\n",
      "models/gemini-2.0-flash\n",
      "models/gemini-2.0-flash-001\n",
      "models/gemini-2.0-flash-exp-image-generation\n",
      "models/gemini-2.0-flash-lite-001\n",
      "models/gemini-2.0-flash-lite\n",
      "models/gemini-2.0-flash-lite-preview-02-05\n",
      "models/gemini-2.0-flash-lite-preview\n",
      "models/gemini-2.0-pro-exp\n",
      "models/gemini-2.0-pro-exp-02-05\n",
      "models/gemini-exp-1206\n",
      "models/gemini-2.0-flash-thinking-exp-01-21\n",
      "models/gemini-2.0-flash-thinking-exp\n",
      "models/gemini-2.0-flash-thinking-exp-1219\n",
      "models/learnlm-1.5-pro-experimental\n",
      "models/gemma-3-1b-it\n",
      "models/gemma-3-4b-it\n",
      "models/gemma-3-12b-it\n",
      "models/gemma-3-27b-it\n",
      "models/embedding-001\n",
      "models/text-embedding-004\n",
      "models/gemini-embedding-exp-03-07\n",
      "models/gemini-embedding-exp\n",
      "models/aqa\n",
      "models/imagen-3.0-generate-002\n"
     ]
    }
   ],
   "source": [
    "import google.generativeai as genai\n",
    "for model in genai.list_models():\n",
    "    print(model.name)"
   ]
  },
  {
   "cell_type": "markdown",
   "id": "b13482d1-a0fc-4e22-820c-140928f46322",
   "metadata": {},
   "source": [
    "## Integrating Gemini With LangChain "
   ]
  },
  {
   "cell_type": "code",
   "execution_count": 36,
   "id": "af7e7ce4-0515-45d2-913e-b0cd8fb29544",
   "metadata": {},
   "outputs": [
    {
     "name": "stdout",
     "output_type": "stream",
     "text": [
      "By 2100, life on Mars is a carefully orchestrated dance between humanity and a still-challenging environment. Thriving, albeit enclosed, cities nestled in the Valles Marineris and around Olympus Mons hum with the rhythmic hum of life support systems and the chatter of a globalized Martian society. Biodomes flourish, providing fresh produce and a splash of terrestrial green against the rusty landscape, while 3D-printed habitats extend deeper into the Martian crust. Generations born under the red sky consider Mars home, forging a unique Martian identity intertwined with scientific advancement, resourcefulness, and a constant awareness of the delicate balance that sustains their existence. While the dream of a fully terraformed planet remains decades away, life on Mars in 2100 is a testament to human ingenuity and the enduring spirit of exploration.\n"
     ]
    }
   ],
   "source": [
    "from langchain_google_genai import ChatGoogleGenerativeAI\n",
    "\n",
    "llm = ChatGoogleGenerativeAI(model='gemini-2.0-flash', temperature=0.9)\n",
    "\n",
    "response = llm.invoke('Write a paragraph about life on Mars in year 2100')\n",
    "\n",
    "print(response.content)"
   ]
  },
  {
   "cell_type": "markdown",
   "id": "18b2df24-60df-4252-a5f9-f2dcfa43db8a",
   "metadata": {},
   "source": [
    "### Usare un prompts"
   ]
  },
  {
   "cell_type": "code",
   "execution_count": 37,
   "id": "7486c248-c01c-47d0-9afb-5f04c8f078b5",
   "metadata": {},
   "outputs": [
    {
     "name": "stdout",
     "output_type": "stream",
     "text": [
      "{'topic': 'Why wil AI change the world', 'text': 'Okay, here\\'s a tweet draft for you, focusing on the transformative potential of AI:\\n\\n**Option 1 (Short & impactful):**\\n\\n> AI isn\\'t just a trend, it\\'s a revolution. From healthcare to climate change, its potential to solve humanity\\'s biggest challenges is HUGE. Get ready for a world fundamentally reshaped. #AI #ArtificialIntelligence #FutureTech #Innovation\\n\\n**Option 2 (A bit more specific):**\\n\\n> AI is poised to revolutionize EVERYTHING. Think personalized medicine, smarter cities, and breakthroughs in energy. It\\'s not about robots taking over, but about empowering us to build a better future. What excites you most about AI\\'s potential? #AI #Innovation #FutureofWork #Technology\\n\\n**Option 3 (Focus on accessibility):**\\n\\n> AI used to be sci-fi. Now it\\'s becoming accessible. Imagine AI-powered tools boosting creativity, automating tasks, and leveling the playing field. The real change? Empowering *everyone* to achieve more. #AI #ArtificialIntelligence #Accessibility #FutureIsNow\\n\\n**Option 4 (A bit more cautious/thought-provoking):**\\n\\n> AI has the potential to change the world, but it\\'s not without its challenges. We need to ensure ethical development & responsible implementation. The future is in our hands - let\\'s shape it wisely. #AI #Ethics #ResponsibleAI #FutureofTechnology\\n\\n**Key things to consider when posting:**\\n\\n*   **Hashtags:** Use relevant hashtags to increase visibility. I\\'ve included a few popular ones.\\n*   **Visuals:** A compelling image or short video will grab attention. (e.g., an infographic, a futuristic concept, or even just a visually appealing graphic with the word \"AI\").\\n*   **Timing:** Post when your target audience is most active on Twitter.\\n*   **Engagement:** Be ready to respond to comments and questions!\\n\\nI hope this helps! Let me know if you\\'d like me to refine it further.'}\n"
     ]
    }
   ],
   "source": [
    "from langchain.prompts import PromptTemplate\n",
    "from langchain.chains import LLMChain\n",
    "from langchain_core.output_parsers import StrOutputParser\n",
    "\n",
    "\n",
    "llm = ChatGoogleGenerativeAI(model='gemini-2.0-flash')\n",
    "\n",
    "prompt = PromptTemplate.from_template('You are a content creator. Write me a tweet about {topic}')\n",
    "\n",
    "chain = (prompt\n",
    "         | llm\n",
    "        | StrOutputParser()\n",
    "        ).with_config({\"verbose\": True})\n",
    "\n",
    "def format_output(text):\n",
    "    return {'topic':topic, 'text':text}\n",
    "\n",
    "chain_with_dict = chain | format_output\n",
    "\n",
    "topic = 'Why wil AI change the world'\n",
    "\n",
    "response = chain_with_dict.invoke({'topic':topic})\n",
    "print(response)"
   ]
  },
  {
   "cell_type": "code",
   "execution_count": 30,
   "id": "5116dd80-46e3-41f4-b753-46bc0b5089a8",
   "metadata": {},
   "outputs": [
    {
     "name": "stdout",
     "output_type": "stream",
     "text": [
      "Why wil AI change the world\n",
      "AI isn't just a buzzword; it's a revolution.  From personalized medicine & climate change solutions to automating mundane tasks & sparking creative breakthroughs, AI will fundamentally reshape our world, making life easier, healthier, & more efficient. #AI #ArtificialIntelligence #FutureIsNow\n"
     ]
    }
   ],
   "source": [
    "print(response[\"topic\"]),\n",
    "\n",
    "print(response[\"text\"])"
   ]
  },
  {
   "cell_type": "markdown",
   "id": "a14fdaad-a1b6-42e3-b046-55ffafde6216",
   "metadata": {},
   "source": [
    "## System Prompt and Streaming"
   ]
  },
  {
   "cell_type": "code",
   "execution_count": 31,
   "id": "346ca31a-3683-465b-9922-c645ccead00d",
   "metadata": {},
   "outputs": [
    {
     "data": {
      "text/plain": [
       "'OUI'"
      ]
     },
     "execution_count": 31,
     "metadata": {},
     "output_type": "execute_result"
    }
   ],
   "source": [
    "from langchain_core.messages import HumanMessage, SystemMessage\n",
    "llm = ChatGoogleGenerativeAI(model='gemini-2.0-flash')\n",
    "\n",
    "output = llm.invoke(\n",
    "    [\n",
    "        SystemMessage(content='Answer only YES or NO in French'),\n",
    "        HumanMessage(content='Is cat a mammal?')\n",
    "    ]\n",
    ")\n",
    "\n",
    "output.content"
   ]
  },
  {
   "cell_type": "code",
   "execution_count": 38,
   "id": "aa3e741f-44b8-471e-8940-e83b05b9f752",
   "metadata": {},
   "outputs": [
    {
     "name": "stdout",
     "output_type": "stream",
     "text": [
      "## The Mathematical Foundation of Our Universe: A Synthesis of Current Theories and Open Questions\n",
      "\n",
      "**Abstract:** This paper explores the hypothesis that the universe is fundamentally mathematical in nature. We examine the mathematical structures underlying current physical theories, including general relativity, quantum mechanics, and the Standard Model of particle physics. We discuss the potential for a unified mathematical framework, such as string theory or loop quantum gravity, to provide a more complete description of the universe. Furthermore, we address the philosophical implications of a mathematical universe and highlight open questions that remain in this pursuit.\n",
      "\n",
      "**1. Introduction:**\n",
      "\n",
      "The idea that mathematics is not merely a tool for describing the universe, but rather its very foundation, has resonated with physicists and philosophers for centuries. From Pythagoras's belief in the numerical harmony of the cosmos to Max Tegmark's Mathematical Universe Hypothesis (MUH), the notion that the universe is fundamentally mathematical continues to inspire and challenge our understanding of reality. This paper aims to explore the mathematical structures that underpin our current understanding of the universe, examine the potential for a unified mathematical framework, and discuss the philosophical implications and open questions that arise from this perspective.\n",
      "\n",
      "**2. Mathematical Structures in Current Physical Theories:**\n",
      "\n",
      "Our current understanding of the universe is built upon a foundation of well-established physical theories, each deeply rooted in mathematical structures:\n",
      "\n",
      "*   **2.1 General Relativity:** Einstein's theory of general relativity describes gravity as the curvature of spacetime caused by mass and energy. This curvature is mathematically represented by the **Einstein field equations:**\n",
      "\n",
      "    ```\n",
      "    R_{μν} - (1/2)g_{μν}R + Λg_{μν} = (8πG/c^4)T_{μν}\n",
      "    ```\n",
      "\n",
      "    where:\n",
      "\n",
      "    *   `R_{μν}` is the Ricci curvature tensor, describing the curvature of spacetime.\n",
      "    *   `g_{μν}` is the metric tensor, defining the geometry of spacetime.\n",
      "    *   `R` is the scalar curvature.\n",
      "    *   `Λ` is the cosmological constant, representing the energy density of empty space.\n",
      "    *   `G` is the gravitational constant.\n",
      "    *   `c` is the speed of light.\n",
      "    *   `T_{μν}` is the stress-energy tensor, representing the distribution of mass and energy.\n",
      "\n",
      "    This equation demonstrates how the geometry of spacetime, described by differential geometry, is directly related to the distribution of matter and energy.\n",
      "\n",
      "*   **2.2 Quantum Mechanics:** Quantum mechanics describes the behavior of matter and energy at the atomic and subatomic levels. Its mathematical foundation lies in **linear algebra, complex numbers, and probability theory.** The state of a quantum system is represented by a wave function, `ψ`, which evolves in time according to the **Schrödinger equation:**\n",
      "\n",
      "    ```\n",
      "    iħ∂ψ/∂t = Hψ\n",
      "    ```\n",
      "\n",
      "    where:\n",
      "\n",
      "    *   `i` is the imaginary unit.\n",
      "    *   `ħ` is the reduced Planck constant.\n",
      "    *   `∂ψ/∂t` is the time derivative of the wave function.\n",
      "    *   `H` is the Hamiltonian operator, representing the total energy of the system.\n",
      "\n",
      "    The Schrödinger equation is a linear partial differential equation that governs the evolution of quantum systems. The probabilistic nature of quantum mechanics arises from the interpretation of the wave function as a probability amplitude.\n",
      "\n",
      "*   **2.3 The Standard Model of Particle Physics:** The Standard Model describes the fundamental particles and forces of nature (excluding gravity). It is a quantum field theory based on the **gauge group SU(3) × SU(2) × U(1).** This mathematical structure dictates the interactions between fundamental particles through the exchange of force-carrying bosons. The Lagrangian of the Standard Model, a complex mathematical expression, encapsulates all the known interactions and particle properties.\n",
      "\n",
      "**3. Towards a Unified Mathematical Framework:**\n",
      "\n",
      "The Standard Model and general relativity, while remarkably successful in their respective domains, are fundamentally incompatible. This incompatibility motivates the search for a unified theory that can reconcile these two pillars of modern physics. Several promising candidates exist, each with its own unique mathematical framework:\n",
      "\n",
      "*   **3.1 String Theory:** String theory proposes that fundamental particles are not point-like, but rather tiny, vibrating strings. This theory requires **extra spatial dimensions** beyond the three we experience, and its mathematical framework involves **complex geometry, topology, and advanced algebra.** String theory offers the potential to unify all fundamental forces, including gravity, and provides a framework for understanding quantum gravity.\n",
      "\n",
      "*   **3.2 Loop Quantum Gravity:** Loop quantum gravity (LQG) is an alternative approach to quantum gravity that quantizes spacetime itself. It uses **spin networks and spin foams** to describe the quantum geometry of spacetime. LQG does not require extra dimensions and offers a background-independent formulation of quantum gravity.\n",
      "\n",
      "*   **3.3 Other Approaches:** Other approaches to unification include:\n",
      "\n",
      "    *   **Twistor Theory:**  Uses complex geometry to describe spacetime and particles.\n",
      "    *   **Noncommutative Geometry:**  Generalizes the concept of geometry to spaces where the coordinates do not commute.\n",
      "    *   **E8 Lie Group Theory:**  Attempts to unify all fundamental forces and particles within the structure of the E8 Lie group.\n",
      "\n",
      "**4. Philosophical Implications and Open Questions:**\n",
      "\n",
      "The idea of a mathematical universe raises profound philosophical questions:\n",
      "\n",
      "*   **4.1 The Nature of Reality:** If the universe is fundamentally mathematical, what is the nature of reality? Is mathematics simply a description of reality, or is it the very fabric of existence?\n",
      "\n",
      "*   **4.2 The Mathematical Universe Hypothesis (MUH):** Tegmark's MUH proposes that all mathematically consistent structures exist physically. This implies that our universe is just one of many possible universes, each described by a different mathematical structure.\n",
      "\n",
      "*   **4.3 The Role of Consciousness:** If the universe is mathematical, what is the role of consciousness? Is consciousness a product of complex mathematical structures, or does it play a more fundamental role in shaping reality?\n",
      "\n",
      "*   **4.4 Open Questions:**\n",
      "\n",
      "    *   What is the specific mathematical structure that describes our universe?\n",
      "    *   How can we experimentally test the predictions of string theory or loop quantum gravity?\n",
      "    *   Can we develop a more complete understanding of the relationship between mathematics and consciousness?\n",
      "    *   What are the limits of mathematical description in capturing the essence of reality?\n",
      "\n",
      "**5. Conclusion:**\n",
      "\n",
      "The exploration of the mathematical foundation of our universe is a challenging but rewarding endeavor. While our current understanding is incomplete, the mathematical structures underlying our physical theories provide compelling evidence for the deep connection between mathematics and reality. The search for a unified mathematical framework, such as string theory or loop quantum gravity, holds the promise of unlocking the secrets of the universe and answering fundamental questions about the nature of existence.  Further research, both theoretical and experimental, is crucial to advancing our understanding of the mathematical universe and addressing the profound philosophical implications that arise from this perspective.\n",
      "\n",
      "**References:**\n",
      "\n",
      "*   Einstein, A. (1916). *The Foundation of the General Theory of Relativity*. Annalen der Physik, 49(7), 769-822.\n",
      "*   Schrödinger, E. (1926). *An Undulatory Theory of the Mechanics of Atoms and Molecules*. Physical Review, 28(6), 1049.\n",
      "*   Tegmark, M. (2008). *The Mathematical Universe*. Foundations of Physics, 38(2), 101-150.\n",
      "*   Rovelli, C. (2004). *Quantum Gravity*. Cambridge University Press.\n",
      "*   Polchinski, J. (1998). *String Theory*. Cambridge University Press.\n",
      "\n",
      "**Acknowledgements:**\n",
      "\n",
      "The author would like to thank [Insert names of individuals or institutions who provided support or feedback] for their valuable contributions to this work.\n"
     ]
    }
   ],
   "source": [
    "llm = ChatGoogleGenerativeAI(model='gemini-2.0-flash', temperature=0)\n",
    "prompt = 'Write a scientific papaer outlining the mathematical foundation of our univers'\n",
    "\n",
    "response = llm.invoke(prompt)\n",
    "print(response.content)"
   ]
  },
  {
   "cell_type": "markdown",
   "id": "3250b307-4a19-44d6-8351-76144948b10c",
   "metadata": {},
   "source": [
    "## Per generare l'output un pezzo alla volta"
   ]
  },
  {
   "cell_type": "code",
   "execution_count": 40,
   "id": "f8b5d879-3eae-4c2d-a463-b4087eec7d16",
   "metadata": {},
   "outputs": [
    {
     "name": "stdout",
     "output_type": "stream",
     "text": [
      "##\n",
      "--------------------------------------------------\n",
      " The Mathematical Foundation\n",
      "--------------------------------------------------\n",
      " of Our Universe: A Synthesis of Current Theories and Open Questions\n",
      "\n",
      "**Abstract:** This\n",
      "--------------------------------------------------\n",
      " paper explores the hypothesis that the universe is fundamentally mathematical in nature, examining the mathematical structures\n",
      "--------------------------------------------------\n",
      " that underpin our current understanding of physics. We review the roles of differential geometry in general relativity, quantum mechanics and its reliance on linear algebra and Hilbert spaces, and the potential\n",
      "--------------------------------------------------\n",
      " of string theory and loop quantum gravity to provide a more unified mathematical framework. We also discuss the limitations of current models and highlight open questions regarding the emergence of consciousness\n",
      "--------------------------------------------------\n",
      ", the nature of dark matter and dark energy, and the ultimate mathematical structure governing the universe.\n",
      "\n",
      "**1. Introduction:**\n",
      "\n",
      "The idea that the universe is fundamentally mathematical is not new. From Pythagoras' belief in the numerical harmony of the cosmos to\n",
      "--------------------------------------------------\n",
      " Max Tegmark's Mathematical Universe Hypothesis (MUH), the notion that mathematical structures are not merely descriptive tools but the very fabric of reality has captivated scientists and philosophers for centuries. This paper aims to explore the mathematical foundations of our universe, drawing upon established\n",
      "--------------------------------------------------\n",
      " physical theories and speculative models to paint a picture of the underlying mathematical landscape. We will examine the mathematical structures that govern space, time, matter, and energy, while acknowledging the limitations of our current understanding and highlighting areas where further research is needed.\n",
      "\n",
      "**2. General Relativity and the Geometry of Spacetime:**\n",
      "--------------------------------------------------\n",
      "Einstein's theory of General Relativity (GR) provides a compelling example of the power of mathematics in describing the universe. GR posits that gravity is not a force, but rather a manifestation of the curvature of spacetime caused by the presence of mass and energy. The mathematical framework for GR is built upon:\n",
      "\n",
      "*   **\n",
      "--------------------------------------------------\n",
      "Differential Geometry:**  The curvature of spacetime is described by the Riemann curvature tensor, derived from the metric tensor *g<sub>μν</sub>*, which defines the distance between points in spacetime. The Einstein field equations, *G<sub>μν</sub> + Λg<sub>μν</sub> = (8πG/c<sup>4\n",
      "--------------------------------------------------\n",
      "</sup>)T<sub>μν</sub>*, relate the curvature of spacetime (represented by the Einstein tensor *G<sub>μν</sub>*) to the distribution of mass and energy (represented by the stress-energy tensor *T<sub>μν</sub>*).  *Λ* is the cosmological constant, and *G* and *c* are\n",
      "--------------------------------------------------\n",
      " the gravitational constant and the speed of light, respectively.\n",
      "*   **Tensor Calculus:**  GR relies heavily on tensor calculus to describe physical quantities that are independent of the coordinate system used. This ensures that the laws of physics are the same for all observers, regardless of their motion or location.\n",
      "\n",
      "GR has been remarkably\n",
      "--------------------------------------------------\n",
      " successful in predicting a wide range of phenomena, from the bending of light around massive objects to the existence of black holes and gravitational waves.  However, GR breaks down at singularities, such as the center of black holes, suggesting the need for a more fundamental theory.\n",
      "\n",
      "**3. Quantum Mechanics and the Probabilistic Nature of Reality\n",
      "--------------------------------------------------\n",
      ":**\n",
      "\n",
      "Quantum Mechanics (QM) describes the behavior of matter and energy at the atomic and subatomic levels.  Unlike classical physics, QM is inherently probabilistic, with particles described by wave functions that evolve according to the Schrödinger equation:\n",
      "\n",
      "*   **Linear Algebra and Hilbert Spaces:**  Quantum states are represented by vectors in a complex\n",
      "--------------------------------------------------\n",
      " Hilbert space.  Physical observables are represented by linear operators acting on these vectors. The Schrödinger equation, *iħ∂ψ/∂t = Hψ*, describes the time evolution of the wave function *ψ*, where *ħ* is the reduced Planck constant and *H* is the Hamiltonian operator representing the total energy of\n",
      "--------------------------------------------------\n",
      " the system.\n",
      "*   **Probability Theory:**  The square of the absolute value of the wave function, |ψ|<sup>2</sup>, gives the probability density of finding a particle at a particular location.  This probabilistic interpretation is a fundamental departure from classical determinism.\n",
      "*   **Group Theory:**  S\n",
      "--------------------------------------------------\n",
      "ymmetries play a crucial role in QM.  The Standard Model of particle physics, which describes the fundamental particles and forces of nature, is based on the gauge group SU(3) × SU(2) × U(1).\n",
      "\n",
      "QM has been incredibly successful in explaining the behavior of atoms, molecules, and elementary particles. However,\n",
      "--------------------------------------------------\n",
      " it is fundamentally incompatible with GR, leading to the search for a theory of quantum gravity.\n",
      "\n",
      "**4. Towards a Unified Theory: String Theory and Loop Quantum Gravity:**\n",
      "\n",
      "The incompatibility between GR and QM has motivated the development of several candidate theories of quantum gravity, including string theory and loop quantum gravity.\n",
      "\n",
      "*   **String Theory\n",
      "--------------------------------------------------\n",
      ":**  String theory proposes that the fundamental constituents of the universe are not point-like particles, but rather tiny, vibrating strings.  Different vibrational modes of these strings correspond to different particles.  String theory requires extra spatial dimensions beyond the three we experience, and its mathematical framework is highly complex, involving:\n",
      "    *   **Con\n",
      "--------------------------------------------------\n",
      "formal Field Theory:**  Describes the behavior of strings on the worldsheet, a two-dimensional surface swept out by the string as it propagates through spacetime.\n",
      "    *   **Calabi-Yau Manifolds:**  These complex manifolds are often invoked to compactify the extra spatial dimensions required by string theory.\n",
      "    *   \n",
      "--------------------------------------------------\n",
      "**Supermathematics:**  String theory incorporates supersymmetry, a symmetry that relates bosons and fermions, requiring the use of supermathematics.\n",
      "\n",
      "*   **Loop Quantum Gravity (LQG):**  LQG quantizes spacetime itself, treating it as a network of interconnected loops.  LQG predicts that spacetime is discrete\n",
      "--------------------------------------------------\n",
      " at the Planck scale, with a minimum possible volume and area.  The mathematical framework of LQG involves:\n",
      "    *   **Spin Networks and Spin Foams:**  These are mathematical structures used to describe the quantum geometry of spacetime.\n",
      "    *   **Representation Theory of Lie Groups:**  LQG relies on\n",
      "--------------------------------------------------\n",
      " the representation theory of SU(2) to describe the quantization of area and volume.\n",
      "\n",
      "Both string theory and LQG are still under development, and neither has yet made testable predictions that can be verified experimentally. However, they offer promising avenues for unifying GR and QM into a single, consistent theory.\n",
      "\n",
      "**5. Open\n",
      "--------------------------------------------------\n",
      " Questions and Future Directions:**\n",
      "\n",
      "Despite the remarkable progress in understanding the mathematical foundations of the universe, many open questions remain:\n",
      "\n",
      "*   **The Nature of Dark Matter and Dark Energy:**  These mysterious components make up the vast majority of the universe's mass-energy density, yet their nature remains unknown.  Understanding\n",
      "--------------------------------------------------\n",
      " their mathematical description is a major challenge.\n",
      "*   **The Measurement Problem in Quantum Mechanics:**  The collapse of the wave function upon measurement is a fundamental puzzle in QM.  Various interpretations, such as the Many-Worlds Interpretation, attempt to address this problem, but none are universally accepted.\n",
      "*   **The\n",
      "--------------------------------------------------\n",
      " Emergence of Consciousness:**  How consciousness arises from the physical processes in the brain is a profound mystery.  Developing a mathematical model of consciousness is a daunting task.\n",
      "*   **The Multiverse Hypothesis:**  The MUH suggests that our universe is just one of many, each with its own set of physical laws and\n",
      "--------------------------------------------------\n",
      " constants.  If true, this raises questions about the nature of reality and the limits of scientific inquiry.\n",
      "*   **The Ultimate Mathematical Structure:**  Is there a single, fundamental mathematical structure that underlies all of physics?  If so, what is it?\n",
      "\n",
      "Addressing these open questions will require new theoretical insights, experimental breakthroughs\n",
      "--------------------------------------------------\n",
      ", and a deeper understanding of the relationship between mathematics and the physical world.\n",
      "\n",
      "**6. Conclusion:**\n",
      "\n",
      "The universe appears to be deeply mathematical in nature.  From the geometry of spacetime in GR to the probabilistic nature of QM, mathematics provides the language and tools to describe the fundamental laws of physics.  While current\n",
      "--------------------------------------------------\n",
      " theories have been remarkably successful, they are incomplete and leave many open questions unanswered.  The search for a unified theory of quantum gravity, a deeper understanding of dark matter and dark energy, and a mathematical model of consciousness are among the greatest challenges facing physicists today.  By continuing to explore the mathematical foundations of the universe, we may\n",
      "--------------------------------------------------\n",
      " one day unlock the secrets of its origin, evolution, and ultimate fate.\n",
      "\n",
      "**References:**\n",
      "\n",
      "*   Carroll, S. M. (2004). *Spacetime and Geometry: An Introduction to General Relativity*. Addison-Wesley.\n",
      "*   Griffiths, D. J. (20\n",
      "--------------------------------------------------\n",
      "04). *Introduction to Quantum Mechanics*. Pearson Prentice Hall.\n",
      "*   Rovelli, C. (2004). *Quantum Gravity*. Cambridge University Press.\n",
      "*   Becker, K., Becker, M., & Schwarz, J. H. (2007). *String Theory and M-Theory\n",
      "--------------------------------------------------\n",
      ": A Modern Introduction*. Cambridge University Press.\n",
      "*   Tegmark, M. (2014). *Our Mathematical Universe: My Quest for the Ultimate Nature of Reality*. Alfred A. Knopf.\n",
      "\n",
      "This paper provides a broad overview of the mathematical foundations of our universe. Further research and exploration are needed to address\n",
      "--------------------------------------------------\n",
      " the open questions and develop a more complete and unified understanding of the underlying mathematical structure.\n",
      "--------------------------------------------------\n"
     ]
    }
   ],
   "source": [
    "for chunk in llm.stream(prompt):\n",
    "    print(chunk.content)\n",
    "    print('-' * 50)"
   ]
  },
  {
   "cell_type": "markdown",
   "id": "9840a66a-6e2f-4d8f-93aa-8346465f2ab4",
   "metadata": {},
   "source": [
    "## Multi Modal AI with Gemini"
   ]
  },
  {
   "cell_type": "code",
   "execution_count": 41,
   "id": "d1cd8f48-59b6-4cb3-8043-b5fec2a1f38f",
   "metadata": {},
   "outputs": [
    {
     "data": {
      "image/webp": "[encoded data removed]",
      "text/plain": [
       "<IPython.core.display.Image object>"
      ]
     },
     "metadata": {},
     "output_type": "display_data"
    }
   ],
   "source": [
    "from IPython.display import Image, display\n",
    "display(Image(filename='Meditazione.webp'))"
   ]
  },
  {
   "cell_type": "code",
   "execution_count": 6,
   "id": "24ad7bbb-d07a-4244-9ed5-1b02b05a65ce",
   "metadata": {},
   "outputs": [],
   "source": [
    "## Converto img in base64\n",
    "import base64\n",
    "def encode_image(image_path):\n",
    "    with open(image_path, 'rb') as image_file:\n",
    "        return base64.b64encode(image_file.read()).decode('utf-8')\n",
    "byte_image = encode_image('Meditazione.webp')"
   ]
  },
  {
   "cell_type": "code",
   "execution_count": 7,
   "id": "cc79a417-e87d-4af8-b843-9d4485b85e0b",
   "metadata": {},
   "outputs": [],
   "source": [
    "from langchain_core.messages import HumanMessage\n",
    "from langchain_google_genai import ChatGoogleGenerativeAI\n",
    "\n",
    "from dotenv import load_dotenv, find_dotenv\n",
    "load_dotenv(find_dotenv(), override=True)\n",
    "\n",
    "llm = ChatGoogleGenerativeAI(model='gemini-1.5-flash', temperature=0.2)\n",
    "# Gemini 1.5 flash prende come inpunt un img e test, e ritorna un testo come output\n",
    "\n",
    "prompt= 'What is in this image?'\n",
    "\n",
    "message = HumanMessage(\n",
    "    content=[\n",
    "        {\n",
    "            'type': 'text',\n",
    "            'text': prompt\n",
    "        },\n",
    "        {\n",
    "            'type':'image_url',\n",
    "            'image_url': {'url': f'data:image/jpeg;base64,{byte_image}'}\n",
    "        }\n",
    "    ]\n",
    ")\n",
    "\n",
    "response = llm.invoke([message])"
   ]
  },
  {
   "cell_type": "code",
   "execution_count": 44,
   "id": "d946b47c-090b-4951-852a-2c79909428d5",
   "metadata": {},
   "outputs": [
    {
     "name": "stdout",
     "output_type": "stream",
     "text": [
      "That's a digital illustration of a person sitting in a lotus position on a small, sandy island in the middle of the ocean. \n",
      "\n",
      "\n",
      "Here's a breakdown of the image:\n",
      "\n",
      "* **The Person:** A person with dark hair is seated in a meditative pose, facing away from the viewer. They are wearing a dark-colored shirt.\n",
      "\n",
      "* **The Island:** A small, flat island with a few dark rocks and sparse vegetation. A single palm tree grows in the center.\n",
      "\n",
      "* **The Ocean:** Calm, blue-green water surrounds the island.\n",
      "\n",
      "* **The Sky:** A sunset or sunrise scene with a large, bright yellow sun and some fluffy white clouds.\n",
      "\n",
      "* **Butterflies and Fish:** Several small butterflies and fish are depicted flying/swimming around the island, adding a peaceful and serene atmosphere.\n",
      "\n",
      "* **Signature:** The artist's signature, \"Veronica Schembri,\" is visible at the bottom.\n",
      "\n",
      "The overall impression is one of tranquility, solitude, and perhaps spiritual reflection.\n"
     ]
    }
   ],
   "source": [
    "print(response.content)"
   ]
  },
  {
   "cell_type": "code",
   "execution_count": 4,
   "id": "f6e10cf4-9c38-465a-9dde-d8078fe9d882",
   "metadata": {},
   "outputs": [],
   "source": [
    "def ask_gemini(prompt, image_path, model='gemini-1.5-flash'):\n",
    "    byte_image = encode_image(image_path)\n",
    "    llm = ChatGoogleGenerativeAI(model=model)\n",
    "    message = HumanMessage(\n",
    "    content=[\n",
    "        {\n",
    "            'type': 'text',\n",
    "            'text': prompt\n",
    "        },\n",
    "        {\n",
    "            'type':'image_url',\n",
    "            'image_url': {'url': f'data:image/jpeg;base64,{byte_image}'}\n",
    "        }\n",
    "        ]\n",
    "        )\n",
    "    response = llm.invoke([message])\n",
    "    return response"
   ]
  },
  {
   "cell_type": "code",
   "execution_count": 47,
   "id": "0a7ab639-80ba-4b43-914e-ab0280d28655",
   "metadata": {},
   "outputs": [
    {
     "name": "stdout",
     "output_type": "stream",
     "text": [
      "The character is sitting in a meditative pose on a small, sandy island.  There is a palm tree on the island, and the character appears to be watching the sunset over the ocean.  Butterflies and small fish are also visible in the image.\n"
     ]
    }
   ],
   "source": [
    "response = ask_gemini('What is the character doing?', 'Meditazione.webp')\n",
    "print(response.content)"
   ]
  },
  {
   "cell_type": "code",
   "execution_count": 48,
   "id": "d943b6fe-237e-43ce-99c6-325fc01c45ab",
   "metadata": {},
   "outputs": [
    {
     "name": "stdout",
     "output_type": "stream",
     "text": [
      "There appear to be at least five different kinds of butterflies in the image.  There may be more, but some are too small or indistinct to identify with certainty.\n"
     ]
    }
   ],
   "source": [
    "response = ask_gemini('How many kinf of butterfly can you identify', 'Meditazione.webp')\n",
    "print(response.content)"
   ]
  },
  {
   "cell_type": "code",
   "execution_count": 45,
   "id": "1200170a-b2ec-4fb7-a9cb-3ac1325b2c72",
   "metadata": {},
   "outputs": [],
   "source": [
    "# creo una richiesta get per recuperare un img\n",
    "import requests\n",
    "\n",
    "image_url = 'https://fastly.picsum.photos/id/40/4106/2806.jpg?hmac=MY3ra98ut044LaWPEKwZowgydHZ_rZZUuOHrc3mL5mI'\n",
    "content = requests.get(image_url).content\n",
    "\n",
    "# salvo img in locale\n",
    "with open('online_image.jpg','wb') as file:\n",
    "    file.write(content)\n",
    "\n",
    "# mostro img salvata\n",
    "display(Image(filename='online_image.jpg'))"
   ]
  },
  {
   "cell_type": "code",
   "execution_count": 50,
   "id": "df28a603-b012-4bed-8f43-028d63719304",
   "metadata": {},
   "outputs": [
    {
     "name": "stdout",
     "output_type": "stream",
     "text": [
      "Here's a description of the image:\n",
      "\n",
      "The image is a close-up, macro shot of a cat's nose and the surrounding fur. \n",
      "\n",
      "\n",
      "Here's a breakdown of the details:\n",
      "\n",
      "* **The Nose:** The nose is the central focus, occupying a significant portion of the frame. It's a pinkish-brown color, with a slightly darker, almost black, area at the very bottom where the nostrils meet. The surface is textured, with numerous tiny pores clearly visible.  The nostrils themselves are not fully in view, hidden partially behind the upper lip.\n",
      "\n",
      "* **The Fur:** The fur surrounding the nose is predominantly light gray or silver, with darker gray/brown hairs interspersed, giving it a mottled appearance. The hairs are individually visible in the close-up, appearing soft and fine. The fur is slightly out of focus, drawing attention to the sharply focused nose. The fur on the upper part of the nose is darker than the fur on the cheeks.\n",
      "\n",
      "* **Overall:** The image has a soft, almost dreamy quality due to the shallow depth of field. The background is blurred, completely out of focus, and appears as a light, hazy white. The lighting is soft and diffused, without harsh shadows. The overall impression is one of intimacy and gentle observation of a cat's delicate features. The color palette is muted and natural, consisting mainly of grays, browns, and a pale pink.\n"
     ]
    }
   ],
   "source": [
    "response = ask_gemini('Describe this image as detailed as possibile', 'online_image.jpg')\n",
    "\n",
    "print(response.content)"
   ]
  },
  {
   "cell_type": "code",
   "execution_count": null,
   "id": "cfa05c45-9a38-4796-8694-66abcd0fcf76",
   "metadata": {},
   "outputs": [],
   "source": []
  }
 ],
 "metadata": {
  "kernelspec": {
   "display_name": "Python 3 (ipykernel)",
   "language": "python",
   "name": "python3"
  },
  "language_info": {
   "codemirror_mode": {
    "name": "ipython",
    "version": 3
   },
   "file_extension": ".py",
   "mimetype": "text/x-python",
   "name": "python",
   "nbconvert_exporter": "python",
   "pygments_lexer": "ipython3",
   "version": "3.13.2"
  }
 },
 "nbformat": 4,
 "nbformat_minor": 5
}
